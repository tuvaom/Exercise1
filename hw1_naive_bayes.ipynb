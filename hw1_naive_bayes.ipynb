{
  "nbformat": 4,
  "nbformat_minor": 0,
  "metadata": {
    "kernelspec": {
      "display_name": "Python 3",
      "language": "python",
      "name": "python3"
    },
    "language_info": {
      "codemirror_mode": {
        "name": "ipython",
        "version": 3
      },
      "file_extension": ".py",
      "mimetype": "text/x-python",
      "name": "python",
      "nbconvert_exporter": "python",
      "pygments_lexer": "ipython3",
      "version": "3.6.7"
    },
    "colab": {
      "name": "hw1_naive_bayes.ipynb",
      "provenance": [],
      "collapsed_sections": [],
      "include_colab_link": true
    }
  },
  "cells": [
    {
      "cell_type": "markdown",
      "metadata": {
        "id": "view-in-github",
        "colab_type": "text"
      },
      "source": [
        "<a href=\"https://colab.research.google.com/github/tuvaom/Exercise1/blob/master/hw1_naive_bayes.ipynb\" target=\"_parent\"><img src=\"https://colab.research.google.com/assets/colab-badge.svg\" alt=\"Open In Colab\"/></a>"
      ]
    },
    {
      "cell_type": "markdown",
      "metadata": {
        "id": "rVc692cTWmeb",
        "colab_type": "text"
      },
      "source": [
        "You can do this homework online through [Google Colab](https://colab.research.google.com/). By linking Colab to Github, you can import this file to colab, and save your changes back to Github directly.\n"
      ]
    },
    {
      "cell_type": "markdown",
      "metadata": {
        "id": "3kMl81pn0_3N",
        "colab_type": "text"
      },
      "source": [
        "# Homework 1: Naive Bayes Classifier\n",
        "\n",
        "In this homework you will implement the Naive Bayes Classsifier on a data set of votes in the U.S. House of Representatives, with the goal of predicting the party affiliation of each congressman. The input data $X$ is given by a $N$-by-$D$ matrix, where $N$ is the number of examples and $D=16$ is the number of input features. Each feature is binary (yes/no). The targets are given by a length-$N$ sequence of classes, $Y$, that are also binary. More information on the data set can be found at  https://archive.ics.uci.edu/ml/datasets/Congressional+Voting+Records.\n"
      ]
    },
    {
      "cell_type": "markdown",
      "metadata": {
        "id": "7JXBHBH70_3P",
        "colab_type": "text"
      },
      "source": [
        "\n",
        "First, we need to download the data. The following code uses the urllib library to request data from a website. The pandas library is a powerful library for data analysis --- we use the read_csv method to automatically parse the comma seperated variable (csv) file."
      ]
    },
    {
      "cell_type": "code",
      "metadata": {
        "id": "kc-pnkGp0_3T",
        "colab_type": "code",
        "outputId": "b3f0d7d9-4509-4bae-c604-182d66e5d303",
        "colab": {
          "base_uri": "https://localhost:8080/",
          "height": 218
        }
      },
      "source": [
        "import pandas \n",
        "import urllib.request  \n",
        "import numpy   # Numerical python.\n",
        "from sklearn.metrics import log_loss\n",
        "\n",
        "# Download the data.\n",
        "url = \"https://archive.ics.uci.edu/ml/machine-learning-databases/voting-records/house-votes-84.data\"\n",
        "response = urllib.request.urlopen(url)\n",
        "\n",
        "# Interpret text data into pandas data frame. Interpret 'abstain' votes as 'no'.\n",
        "dataset  = pandas.read_csv(response, header=None, true_values=['y'], false_values=['n','?'])\n",
        "\n",
        "# Set the column names.\n",
        "names = ['label'] + [f'vote_{i}' for i in range(16)]\n",
        "dataset.columns = names\n",
        "\n",
        "# Tells pandas that this is a categorical feature.\n",
        "dataset['label'] = pandas.Categorical(dataset['label'])\n",
        "\n",
        "print(\"Dataset shape: \", dataset.shape)\n",
        "dataset.head() # Prints first 5 examples from the data set.\n",
        "\n"
      ],
      "execution_count": 0,
      "outputs": [
        {
          "output_type": "stream",
          "text": [
            "Dataset shape:  (435, 17)\n"
          ],
          "name": "stdout"
        },
        {
          "output_type": "execute_result",
          "data": {
            "text/html": [
              "<div>\n",
              "<style scoped>\n",
              "    .dataframe tbody tr th:only-of-type {\n",
              "        vertical-align: middle;\n",
              "    }\n",
              "\n",
              "    .dataframe tbody tr th {\n",
              "        vertical-align: top;\n",
              "    }\n",
              "\n",
              "    .dataframe thead th {\n",
              "        text-align: right;\n",
              "    }\n",
              "</style>\n",
              "<table border=\"1\" class=\"dataframe\">\n",
              "  <thead>\n",
              "    <tr style=\"text-align: right;\">\n",
              "      <th></th>\n",
              "      <th>label</th>\n",
              "      <th>vote_0</th>\n",
              "      <th>vote_1</th>\n",
              "      <th>vote_2</th>\n",
              "      <th>vote_3</th>\n",
              "      <th>vote_4</th>\n",
              "      <th>vote_5</th>\n",
              "      <th>vote_6</th>\n",
              "      <th>vote_7</th>\n",
              "      <th>vote_8</th>\n",
              "      <th>vote_9</th>\n",
              "      <th>vote_10</th>\n",
              "      <th>vote_11</th>\n",
              "      <th>vote_12</th>\n",
              "      <th>vote_13</th>\n",
              "      <th>vote_14</th>\n",
              "      <th>vote_15</th>\n",
              "    </tr>\n",
              "  </thead>\n",
              "  <tbody>\n",
              "    <tr>\n",
              "      <th>0</th>\n",
              "      <td>republican</td>\n",
              "      <td>False</td>\n",
              "      <td>True</td>\n",
              "      <td>False</td>\n",
              "      <td>True</td>\n",
              "      <td>True</td>\n",
              "      <td>True</td>\n",
              "      <td>False</td>\n",
              "      <td>False</td>\n",
              "      <td>False</td>\n",
              "      <td>True</td>\n",
              "      <td>False</td>\n",
              "      <td>True</td>\n",
              "      <td>True</td>\n",
              "      <td>True</td>\n",
              "      <td>False</td>\n",
              "      <td>True</td>\n",
              "    </tr>\n",
              "    <tr>\n",
              "      <th>1</th>\n",
              "      <td>republican</td>\n",
              "      <td>False</td>\n",
              "      <td>True</td>\n",
              "      <td>False</td>\n",
              "      <td>True</td>\n",
              "      <td>True</td>\n",
              "      <td>True</td>\n",
              "      <td>False</td>\n",
              "      <td>False</td>\n",
              "      <td>False</td>\n",
              "      <td>False</td>\n",
              "      <td>False</td>\n",
              "      <td>True</td>\n",
              "      <td>True</td>\n",
              "      <td>True</td>\n",
              "      <td>False</td>\n",
              "      <td>False</td>\n",
              "    </tr>\n",
              "    <tr>\n",
              "      <th>2</th>\n",
              "      <td>democrat</td>\n",
              "      <td>False</td>\n",
              "      <td>True</td>\n",
              "      <td>True</td>\n",
              "      <td>False</td>\n",
              "      <td>True</td>\n",
              "      <td>True</td>\n",
              "      <td>False</td>\n",
              "      <td>False</td>\n",
              "      <td>False</td>\n",
              "      <td>False</td>\n",
              "      <td>True</td>\n",
              "      <td>False</td>\n",
              "      <td>True</td>\n",
              "      <td>True</td>\n",
              "      <td>False</td>\n",
              "      <td>False</td>\n",
              "    </tr>\n",
              "    <tr>\n",
              "      <th>3</th>\n",
              "      <td>democrat</td>\n",
              "      <td>False</td>\n",
              "      <td>True</td>\n",
              "      <td>True</td>\n",
              "      <td>False</td>\n",
              "      <td>False</td>\n",
              "      <td>True</td>\n",
              "      <td>False</td>\n",
              "      <td>False</td>\n",
              "      <td>False</td>\n",
              "      <td>False</td>\n",
              "      <td>True</td>\n",
              "      <td>False</td>\n",
              "      <td>True</td>\n",
              "      <td>False</td>\n",
              "      <td>False</td>\n",
              "      <td>True</td>\n",
              "    </tr>\n",
              "    <tr>\n",
              "      <th>4</th>\n",
              "      <td>democrat</td>\n",
              "      <td>True</td>\n",
              "      <td>True</td>\n",
              "      <td>True</td>\n",
              "      <td>False</td>\n",
              "      <td>True</td>\n",
              "      <td>True</td>\n",
              "      <td>False</td>\n",
              "      <td>False</td>\n",
              "      <td>False</td>\n",
              "      <td>False</td>\n",
              "      <td>True</td>\n",
              "      <td>False</td>\n",
              "      <td>True</td>\n",
              "      <td>True</td>\n",
              "      <td>True</td>\n",
              "      <td>True</td>\n",
              "    </tr>\n",
              "  </tbody>\n",
              "</table>\n",
              "</div>"
            ],
            "text/plain": [
              "        label  vote_0  vote_1  vote_2  ...  vote_12  vote_13  vote_14  vote_15\n",
              "0  republican   False    True   False  ...     True     True    False     True\n",
              "1  republican   False    True   False  ...     True     True    False    False\n",
              "2    democrat   False    True    True  ...     True     True    False    False\n",
              "3    democrat   False    True    True  ...     True    False    False     True\n",
              "4    democrat    True    True    True  ...     True     True     True     True\n",
              "\n",
              "[5 rows x 17 columns]"
            ]
          },
          "metadata": {
            "tags": []
          },
          "execution_count": 31
        }
      ]
    },
    {
      "cell_type": "markdown",
      "metadata": {
        "id": "ks-snVmYvSW2",
        "colab_type": "text"
      },
      "source": [
        "Numpy is a powerful library for mathematical operations on vectors and matrices. Here we convert the pandas data into a 2-dimensional numpy array (a matrix). "
      ]
    },
    {
      "cell_type": "code",
      "metadata": {
        "id": "OJjff58Uu4kw",
        "colab_type": "code",
        "outputId": "812ee6ef-44ec-4a59-a040-8872c3271f18",
        "colab": {
          "base_uri": "https://localhost:8080/",
          "height": 266
        }
      },
      "source": [
        "X = numpy.array(dataset.iloc[:,1:]) # Convert input features into Numpy array.\n",
        "Y = dataset['label'].cat.codes # Converts string labels to binary values.\n",
        "\n",
        "# Split data into train and test set. Use the first 335 examples for training.\n",
        "num_train = 335\n",
        "Xtrain = X[0:num_train, :]\n",
        "Xtest  = X[num_train:,:]\n",
        "print(Xtrain.shape, Xtest.shape)\n",
        "\n",
        "Ytrain = Y[0:num_train]\n",
        "Ytest = Y[num_train:]\n",
        "print(Xtrain[0][1],Xtrain[0][2])\n",
        "print(Ytrain)\n",
        "\n"
      ],
      "execution_count": 0,
      "outputs": [
        {
          "output_type": "stream",
          "text": [
            "(335, 16) (100, 16)\n",
            "True False\n",
            "0      1\n",
            "1      1\n",
            "2      0\n",
            "3      0\n",
            "4      0\n",
            "      ..\n",
            "330    1\n",
            "331    0\n",
            "332    0\n",
            "333    0\n",
            "334    0\n",
            "Length: 335, dtype: int8\n"
          ],
          "name": "stdout"
        }
      ]
    },
    {
      "cell_type": "markdown",
      "metadata": {
        "id": "MZGCc_KHu6yR",
        "colab_type": "text"
      },
      "source": [
        "You are asked to implement the following functions."
      ]
    },
    {
      "cell_type": "code",
      "metadata": {
        "id": "cCpOIkEA0_3X",
        "colab_type": "code",
        "colab": {}
      },
      "source": [
        "def generative_model(Xtrain, Ytrain):\n",
        "    ''' \n",
        "    Implements a generative algorithm on binary data.\n",
        "    Inputs\n",
        "        Xtrain: NxD matrix of features.\n",
        "        Ytrain: N vector of class labels\n",
        "    Returns\n",
        "        p_label: Length 2 vector of class probabilities.\n",
        "        p_votes: 2xD Matrix where entry i,j is p(x_j|v=i).\n",
        "    ''' \n",
        "    N = Xtrain.shape[0]\n",
        "    D = Xtrain.shape[1]\n",
        "\n",
        "    assert(len(Xtrain)==len(Ytrain))\n",
        "    # vector of class probabilities\n",
        "    p_label_count = [0,0]\n",
        "    for i in range(N):\n",
        "      if Ytrain[i] == 0:\n",
        "        p_label_count[0] += 1\n",
        "      else:\n",
        "        p_label_count[1] += 1\n",
        "    total = p_label_count[0] + p_label_count[1]\n",
        "    p_label = [p_label_count[0]/total, p_label_count[1]/total]\n",
        "\n",
        "    # probability of class given vote\n",
        "    p_votes = [[0]*16, [0]*16]\n",
        "\n",
        "    for i in range(D):\n",
        "      no = [0,0]\n",
        "      yes = [0,0]\n",
        "      for j in range(N):\n",
        "        if Xtrain[j][i] == False:\n",
        "          no[Ytrain[j]] += 1\n",
        "        else:\n",
        "          yes[Ytrain[j]] += 1\n",
        "      total_no = no[0] + no[1]\n",
        "      total_yes = yes[0] + yes[1]\n",
        "      p_votes[0][i] = no[1]/total_no    #probability for republican if answer no\n",
        "      p_votes[1][i] = yes[1]/total_yes   #probability for republican if answer yes\n",
        "      \n",
        "\n",
        "    return p_label, p_votes\n",
        "\n",
        "  \n",
        "\n",
        "def discriminative_model(p_label, p_votes, Xtest):\n",
        "    '''\n",
        "    Implements Naive Bayes Classification.\n",
        "    Inputs\n",
        "      p_label, p_votes: From generative_model.\n",
        "      Xtest: NxD matrix of binary features.\n",
        "    \n",
        "    Outputs \n",
        "      pred_prob: Probability of label=1 under model.\n",
        "    '''\n",
        "    # Probability for Republican\n",
        "    N = Xtest.shape[0]\n",
        "    D = Xtest.shape[1]\n",
        "    probD = p_label[0]\n",
        "    probR = p_label[1]\n",
        "    pred_prob = [0]*N\n",
        "    for i in range(N):\n",
        "      prob_votes_given_R =1\n",
        "      prob_votes_given_D =1\n",
        "      for j in range(D):\n",
        "        if Xtest[i][j] == False:\n",
        "          vote = 0\n",
        "        else:\n",
        "          vote = 1\n",
        "        prob_votes_given_R= prob_votes_given_R*p_votes[vote][j]\n",
        "        prob_votes_given_D = prob_votes_given_D*(1-p_votes[vote][j])\n",
        "\n",
        "      #prob_votes_given_D= 1-prob_votes_given_R\n",
        "      pred_prob[i]=(prob_votes_given_R*probR)/(prob_votes_given_D*probD+prob_votes_given_R*probR)\n",
        "    return pred_prob\n",
        "\n",
        "\n",
        "\n",
        "\n",
        "Ytest.reset_index(drop=True, inplace=True)    #index from 0\n",
        "\n",
        "def accuracy(y_true, y_predicted):\n",
        "    ''' Calculates the fraction of correct predictions.\n",
        "    '''\n",
        "    assert(len(y_true) == len(y_predicted))\n",
        "    # WRITE ME\n",
        "    N = len(y_true)\n",
        "    total=0\n",
        "\n",
        "    for i in range(N):\n",
        "      total += abs(y_true[i] - y_predicted[i])\n",
        "    dev = total/N\n",
        "    acc = 1-dev\n",
        "\n",
        "    return acc\n",
        "\n",
        "  \n"
      ],
      "execution_count": 0,
      "outputs": []
    },
    {
      "cell_type": "code",
      "metadata": {
        "id": "huiM_v_7AQc1",
        "colab_type": "code",
        "outputId": "f3bd9c52-8cf2-43da-8cb4-123a4c808f1f",
        "colab": {
          "base_uri": "https://localhost:8080/",
          "height": 161
        }
      },
      "source": [
        "# Make sure to print these for submission.\n",
        "p_label, p_votes = generative_model(Xtrain, Ytrain)\n",
        "print('Label priors:', p_label)\n",
        "print('Conditional vote probabilities:', p_votes)\n",
        "\n",
        "pred_prob = discriminative_model(p_label, p_votes, Xtest)\n",
        "print('Predictions:', pred_prob)\n",
        "\n",
        "\n",
        "\n",
        "acc = accuracy(Ytest, pred_prob)  \n",
        "ll = log_loss(Ytest, pred_prob)\n",
        "print(\"Accuracy: \", acc)\n",
        "print(\"logloss: \", ll)\n",
        "\n",
        "fifty_prob = [0.5]*len(Ytest)\n",
        "\n",
        "fifty_acc = accuracy(Ytest, fifty_prob)\n",
        "fifty_ll = log_loss(Ytest, fifty_prob)\n",
        "\n",
        "print(\"50/50 accuracy: \", fifty_acc)\n",
        "print(\"50/50 logloss:\", fifty_ll)"
      ],
      "execution_count": 0,
      "outputs": [
        {
          "output_type": "stream",
          "text": [
            "Label priors: [0.6208955223880597, 0.37910447761194027]\n",
            "Conditional vote probabilities: [[0.5520833333333334, 0.3541666666666667, 0.8248175182481752, 0.01951219512195122, 0.03867403314917127, 0.1223021582733813, 0.6783216783216783, 0.7655172413793103, 0.6845238095238095, 0.3372093023255814, 0.5, 0.1111111111111111, 0.13259668508287292, 0.04794520547945205, 0.6010362694300518, 0.44274809160305345], [0.14685314685314685, 0.4125874125874126, 0.0707070707070707, 0.9461538461538461, 0.7792207792207793, 0.5612244897959183, 0.15625, 0.08421052631578947, 0.0718562874251497, 0.4233128834355828, 0.10679611650485436, 0.8125, 0.6688311688311688, 0.6349206349206349, 0.07746478873239436, 0.3382352941176471]]\n",
            "Predictions: [0.9997284333397235, 1.8493345705928362e-09, 1.3551592226813938e-14, 6.752076210856877e-13, 0.9972015124400774, 0.994452164500896, 1.5365488466777087e-13, 2.4727571248461085e-08, 0.014547680928305986, 1.6739451667981512e-14, 0.8800730485856323, 0.9999495144432301, 0.9997674875435352, 1.0536353081961896e-12, 0.024464206495393562, 2.9968436826121147e-10, 0.0015720681522876144, 1.5306613097296978e-07, 0.7706877213712702, 1.6459893132950025e-12, 6.788723687484533e-09, 0.9999531427270257, 0.9999531427270257, 1.212372450242625e-08, 0.9999495144432301, 4.2539746449246765e-11, 7.113075186128428e-06, 2.258381655202724e-10, 0.3548489629690137, 0.8943946233821534, 0.13347953705167995, 1.827264371990937e-12, 1.0505087892515703e-10, 4.613169733990286e-11, 0.9980323024010304, 6.442456340795792e-12, 3.892814679001264e-14, 0.7998970291888545, 0.00037709179546320905, 0.9999431308189098, 0.995973661192548, 1.620299070597337e-15, 0.9580380538622616, 0.9999271624151359, 0.9999271624151359, 2.8658202417832674e-12, 3.068156467108103e-08, 0.9294052869369107, 4.925961271802582e-10, 0.8259230260781047, 0.028004027735662466, 8.316058739457207e-08, 1.8328698072069575e-08, 0.9977411534094688, 2.518749597533679e-15, 0.002486989390774508, 2.2731868948885244e-12, 0.9966055605096884, 8.016924944174934e-06, 3.165892651646872e-06, 6.623091670982559e-13, 7.0465234725665555e-09, 0.0010438576803577565, 5.730706473872638e-07, 0.9977802594704899, 0.9835197986776357, 0.9997879604802606, 2.4371425992185673e-05, 0.9996650933632573, 0.9997178182250135, 0.9999271624151359, 5.2102157980229786e-05, 0.9996082379813878, 1.4892117986060417e-10, 0.9999531427270257, 0.9993911394886146, 3.8498543166161833e-13, 0.9999495144432301, 0.00030910688945240286, 3.114022152086994e-13, 8.276473107784041e-10, 0.9903097569367191, 7.09708668315739e-13, 1.2591927527341995e-11, 3.114022152086994e-13, 0.004068439885013383, 4.431137143440383e-09, 1.0649967343106102e-13, 4.710670089936396e-12, 7.404157379472707e-13, 7.292953791114302e-13, 1.955187535878903e-14, 0.9799970145635881, 1.1445870246203004e-10, 6.777983457709069e-13, 0.9194873285667073, 2.5117837387821346e-12, 0.9993911394886146, 0.9999271624151359, 0.9999746427148521]\n",
            "Accuracy:  0.8504320228196407\n",
            "logloss:  0.9651132769968475\n",
            "50/50 accuracy:  0.5\n",
            "50/50 logloss: 0.6931471805599453\n"
          ],
          "name": "stdout"
        }
      ]
    },
    {
      "cell_type": "markdown",
      "metadata": {
        "id": "Re2cC82D0_3e",
        "colab_type": "text"
      },
      "source": [
        "## To turn in:\n",
        "1) Implement the Naive Bayes Classifier using the starter code above. Make sure to print out the parameters of the generative model and the predictions on the test points.\n",
        "\n",
        "2) Compute the log probability of the test set --- this is a single scalar value.\n",
        "\n",
        "0.965\n",
        "\n",
        "3) Compare the NB classifier to a model in which we predict a 50-50 chance for each vote, in terms of accuracy and the log probability. Which model is better and why? Describe two situations in which the Naive Bayes Classifier will fail. \n",
        "\n",
        "\n",
        "better results with the NB classifier. \n",
        "The Naive Bayes would fail with a sorted list, or all from one party.\n",
        "\n",
        "\n"
      ]
    }
  ]
}